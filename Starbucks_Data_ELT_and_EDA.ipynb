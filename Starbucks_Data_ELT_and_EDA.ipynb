{
  "nbformat": 4,
  "nbformat_minor": 0,
  "metadata": {
    "colab": {
      "name": "Starbucks Data ELT and EDA.ipynb",
      "provenance": [],
      "collapsed_sections": [],
      "mount_file_id": "1rDv_ikh8CWWLW2yS8Rz_8MG7jveuy_9f",
      "authorship_tag": "ABX9TyMCJn2TaFyB7P4vay+dyzGy",
      "include_colab_link": true
    },
    "kernelspec": {
      "name": "python3",
      "display_name": "Python 3"
    }
  },
  "cells": [
    {
      "cell_type": "markdown",
      "metadata": {
        "id": "view-in-github",
        "colab_type": "text"
      },
      "source": [
        "<a href=\"https://colab.research.google.com/github/GniwT/Udacity_Starbucks_Capstone_Project/blob/master/Starbucks_Data_ELT_and_EDA.ipynb\" target=\"_parent\"><img src=\"https://colab.research.google.com/assets/colab-badge.svg\" alt=\"Open In Colab\"/></a>"
      ]
    },
    {
      "cell_type": "markdown",
      "metadata": {
        "id": "1flDtNkFAZpx",
        "colab_type": "text"
      },
      "source": [
        "# **Udacity Starbucks Capstone Project**\n",
        "\n",
        "Creator: Wing Tse\n",
        "\n",
        "Date: July 8, 2020\n",
        "\n",
        "\n",
        "### **Project Overview:**\n",
        "\n",
        "This project is the Capstone project of the Machine Learning Nanodegree of Udacity. Starbucks sends out various promotional advertisements to the users of the Starbucks mobile app. The ad are either informational only, a discount or,BOGO (buy one get one free). The delivery schedule of the ad varied across different customers. This project is to analyse how effective the customers reacted to different promotional advertisements\n",
        "\n",
        "The data is contained in three json files:\n",
        "\n",
        "\n",
        "\n",
        "*   portfolio : offer ids and the meta data of each offer (such as delivery channels and rewards details etc.) \n",
        "\n",
        "*   profile: demographic data of the customers (such as age and income etc)\n",
        "*   transcript: offers timeframes and the transactions details (such as amount of transactions etc.)\n",
        "\n"
      ]
    },
    {
      "cell_type": "markdown",
      "metadata": {
        "id": "t64drhJ1H75o",
        "colab_type": "text"
      },
      "source": [
        "### **Problem Statement/ Metrics**\n",
        "\n",
        "The goal of this project is to build a model that predicts whether the customer will make a purchase in response to different offers.\n",
        "\n",
        "The starategy for solving this problem is as follows:\n",
        "\n",
        "\n",
        "*   Exploring and visualizaing the data;\n",
        "*   Data Preprocessing such as transforming or encoding;\n",
        "*   Data analysis on the cleaned pre-processed data;\n",
        "*   Feature engineering;\n",
        "*   Randomized Hyperparameter tuning;\n",
        "*   Build the models of logistic regression, random forest classifier, and XGBoost;\n",
        "*   Evaluate the models through the accuracy and F1-score.\n"
      ]
    },
    {
      "cell_type": "markdown",
      "metadata": {
        "id": "mLi1gGR38iXu",
        "colab_type": "text"
      },
      "source": [
        "### **1. Data ETL Pipeline**\n",
        "This section data ETL, which is to load, extract, and prepare the data. I will also use the functions saved in py. file for data cleaning."
      ]
    },
    {
      "cell_type": "code",
      "metadata": {
        "id": "saUV5Ggw3l_b",
        "colab_type": "code",
        "colab": {
          "base_uri": "https://localhost:8080/",
          "height": 88
        },
        "outputId": "6efc0f55-9db5-4b43-c017-122c73dac901"
      },
      "source": [
        "# For Google Colab use only. \n",
        "# This part can be omitted if running on local Jupter Notebook\n",
        "from google.colab import drive\n",
        "drive.mount('/content/drive')\n",
        "import sys\n",
        "sys.path.append('/content/drive/My Drive/Colab Notebooks/Udacity_Starbucks_CapstoneProject')  \n",
        "\n",
        "#PyData Packages\n",
        "import pandas as pd\n",
        "import numpy as np\n",
        "import matplotlib.pyplot as plt\n",
        "import seaborn as sns\n",
        "import time\n",
        "from datetime import datetime\n",
        "\n",
        "# Importing the functions I built\n",
        "from clean_portfolio_py import to_clean_portfolio  \n",
        "from clean_profile_py import to_clean_profile  \n",
        "from clean_transcript_py import to_clean_trascript\n",
        "from build_main_df_py import to_build_main_df\n",
        "\n",
        "#Magic Commands\n",
        "%matplotlib inline\n",
        "\n",
        "# Matplotlib style\n",
        "plt.style.use('fivethirtyeight')"
      ],
      "execution_count": null,
      "outputs": [
        {
          "output_type": "stream",
          "text": [
            "Drive already mounted at /content/drive; to attempt to forcibly remount, call drive.mount(\"/content/drive\", force_remount=True).\n"
          ],
          "name": "stdout"
        },
        {
          "output_type": "stream",
          "text": [
            "/usr/local/lib/python3.6/dist-packages/statsmodels/tools/_testing.py:19: FutureWarning: pandas.util.testing is deprecated. Use the functions in the public API at pandas.testing instead.\n",
            "  import pandas.util.testing as tm\n"
          ],
          "name": "stderr"
        }
      ]
    },
    {
      "cell_type": "code",
      "metadata": {
        "id": "1kxrKFHE6wGI",
        "colab_type": "code",
        "colab": {}
      },
      "source": [
        "# import the json file\n",
        "portfolio = pd.read_json('/content/drive/My Drive/Colab Notebooks/Udacity_Starbucks_CapstoneProject/data/portfolio.json', orient='records', lines=True)\n",
        "profile = pd.read_json('/content/drive/My Drive/Colab Notebooks/Udacity_Starbucks_CapstoneProject/data/profile.json', orient='records', lines=True)\n",
        "transcript = pd.read_json('/content/drive/My Drive/Colab Notebooks/Udacity_Starbucks_CapstoneProject/data/transcript.json', orient='records', lines=True)"
      ],
      "execution_count": null,
      "outputs": []
    },
    {
      "cell_type": "code",
      "metadata": {
        "id": "E7DvkbvvKDUA",
        "colab_type": "code",
        "colab": {}
      },
      "source": [
        "# apply the function of clean_portfolio py.file\n",
        "clean_portfolio = to_clean_portfolio(portfolio)"
      ],
      "execution_count": null,
      "outputs": []
    },
    {
      "cell_type": "markdown",
      "metadata": {
        "id": "LPuYxBOREdAr",
        "colab_type": "text"
      },
      "source": [
        ""
      ]
    },
    {
      "cell_type": "code",
      "metadata": {
        "id": "vZgNatK4ODrU",
        "colab_type": "code",
        "colab": {
          "base_uri": "https://localhost:8080/",
          "height": 142
        },
        "outputId": "3741bb51-010d-4cfb-8abc-e71660c59f4f"
      },
      "source": [
        "# apply the function of clean_profile on our dataset 'profile' to  get a cleaned profile\n",
        "clean_profile = to_clean_profile(profile)\n",
        "clean_profile.sample(3)"
      ],
      "execution_count": null,
      "outputs": [
        {
          "output_type": "execute_result",
          "data": {
            "text/html": [
              "<div>\n",
              "<style scoped>\n",
              "    .dataframe tbody tr th:only-of-type {\n",
              "        vertical-align: middle;\n",
              "    }\n",
              "\n",
              "    .dataframe tbody tr th {\n",
              "        vertical-align: top;\n",
              "    }\n",
              "\n",
              "    .dataframe thead th {\n",
              "        text-align: right;\n",
              "    }\n",
              "</style>\n",
              "<table border=\"1\" class=\"dataframe\">\n",
              "  <thead>\n",
              "    <tr style=\"text-align: right;\">\n",
              "      <th></th>\n",
              "      <th>gender</th>\n",
              "      <th>customer_id</th>\n",
              "      <th>age_bin</th>\n",
              "      <th>income_bin</th>\n",
              "      <th>membership_since</th>\n",
              "    </tr>\n",
              "  </thead>\n",
              "  <tbody>\n",
              "    <tr>\n",
              "      <th>1387</th>\n",
              "      <td>M</td>\n",
              "      <td>983220d3eb664ad5b2dcbe70c8428904</td>\n",
              "      <td>50s</td>\n",
              "      <td>30k</td>\n",
              "      <td>2014</td>\n",
              "    </tr>\n",
              "    <tr>\n",
              "      <th>10320</th>\n",
              "      <td>F</td>\n",
              "      <td>6879bd496adb4c2599146ddfba829d14</td>\n",
              "      <td>70s</td>\n",
              "      <td>100k</td>\n",
              "      <td>2017</td>\n",
              "    </tr>\n",
              "    <tr>\n",
              "      <th>13466</th>\n",
              "      <td>M</td>\n",
              "      <td>0552370c278345298835cc70e616c96c</td>\n",
              "      <td>40s</td>\n",
              "      <td>100k</td>\n",
              "      <td>2017</td>\n",
              "    </tr>\n",
              "  </tbody>\n",
              "</table>\n",
              "</div>"
            ],
            "text/plain": [
              "      gender                       customer_id  ... income_bin membership_since\n",
              "1387       M  983220d3eb664ad5b2dcbe70c8428904  ...        30k             2014\n",
              "10320      F  6879bd496adb4c2599146ddfba829d14  ...       100k             2017\n",
              "13466      M  0552370c278345298835cc70e616c96c  ...       100k             2017\n",
              "\n",
              "[3 rows x 5 columns]"
            ]
          },
          "metadata": {
            "tags": []
          },
          "execution_count": 4
        }
      ]
    },
    {
      "cell_type": "code",
      "metadata": {
        "id": "B9yzxXOUU-q0",
        "colab_type": "code",
        "colab": {
          "base_uri": "https://localhost:8080/",
          "height": 196
        },
        "outputId": "68978cac-60e7-45fe-addd-2e23e2d8ae52"
      },
      "source": [
        "# apply the function of clean_transcript on our dataset 'transcript' and 'profile to  get a cleaned profile\n",
        "clean_transcript = to_clean_trascript(transcript, profile)\n",
        "clean_transcript.sample(3)"
      ],
      "execution_count": null,
      "outputs": [
        {
          "output_type": "execute_result",
          "data": {
            "text/html": [
              "<div>\n",
              "<style scoped>\n",
              "    .dataframe tbody tr th:only-of-type {\n",
              "        vertical-align: middle;\n",
              "    }\n",
              "\n",
              "    .dataframe tbody tr th {\n",
              "        vertical-align: top;\n",
              "    }\n",
              "\n",
              "    .dataframe thead th {\n",
              "        text-align: right;\n",
              "    }\n",
              "</style>\n",
              "<table border=\"1\" class=\"dataframe\">\n",
              "  <thead>\n",
              "    <tr style=\"text-align: right;\">\n",
              "      <th></th>\n",
              "      <th>customer_id</th>\n",
              "      <th>event</th>\n",
              "      <th>time</th>\n",
              "      <th>offer_received</th>\n",
              "      <th>offer_viewed</th>\n",
              "      <th>transaction</th>\n",
              "      <th>offer_completed</th>\n",
              "      <th>amount</th>\n",
              "      <th>offer_id</th>\n",
              "      <th>offer_type</th>\n",
              "    </tr>\n",
              "  </thead>\n",
              "  <tbody>\n",
              "    <tr>\n",
              "      <th>236022</th>\n",
              "      <td>f969f5f7c6964961ae6c27bd366d51b6</td>\n",
              "      <td>offer completed</td>\n",
              "      <td>546</td>\n",
              "      <td>0</td>\n",
              "      <td>0</td>\n",
              "      <td>0</td>\n",
              "      <td>1</td>\n",
              "      <td>0.00</td>\n",
              "      <td>0</td>\n",
              "      <td>0</td>\n",
              "    </tr>\n",
              "    <tr>\n",
              "      <th>220605</th>\n",
              "      <td>f021439f0396486b868d30ddaa6b272c</td>\n",
              "      <td>offer viewed</td>\n",
              "      <td>510</td>\n",
              "      <td>0</td>\n",
              "      <td>1</td>\n",
              "      <td>0</td>\n",
              "      <td>0</td>\n",
              "      <td>0.00</td>\n",
              "      <td>3f207df678b143eea3cee63160fa8bed</td>\n",
              "      <td>informational</td>\n",
              "    </tr>\n",
              "    <tr>\n",
              "      <th>164082</th>\n",
              "      <td>5bc9f27518b64163be2f236dcfcb9ce7</td>\n",
              "      <td>transaction</td>\n",
              "      <td>408</td>\n",
              "      <td>0</td>\n",
              "      <td>0</td>\n",
              "      <td>1</td>\n",
              "      <td>0</td>\n",
              "      <td>30.91</td>\n",
              "      <td>0</td>\n",
              "      <td>0</td>\n",
              "    </tr>\n",
              "  </tbody>\n",
              "</table>\n",
              "</div>"
            ],
            "text/plain": [
              "                             customer_id  ...     offer_type\n",
              "236022  f969f5f7c6964961ae6c27bd366d51b6  ...              0\n",
              "220605  f021439f0396486b868d30ddaa6b272c  ...  informational\n",
              "164082  5bc9f27518b64163be2f236dcfcb9ce7  ...              0\n",
              "\n",
              "[3 rows x 10 columns]"
            ]
          },
          "metadata": {
            "tags": []
          },
          "execution_count": 5
        }
      ]
    },
    {
      "cell_type": "code",
      "metadata": {
        "id": "FKiOXASoVwOK",
        "colab_type": "code",
        "colab": {}
      },
      "source": [
        "# Create a list of offer event types\n",
        "offer_event_ls = ['offer received', 'offer viewed', 'offer completed']\n",
        "\n",
        "# Find index where feature 'event' is 'offer received', 'offer viewed', 'offer completed'\n",
        "offer_index = clean_transcript[clean_transcript['event'].isin(offer_event_ls)].index\n",
        "\n",
        "# Find index where feature event is 'transaction'\n",
        "trans_index = clean_transcript[~clean_transcript['event'].isin(offer_event_ls)].index\n",
        "\n",
        "# Create offers_df\n",
        "offers_df = clean_transcript.loc[offer_index,:]\n",
        "offers_df = offers_df[['customer_id', 'offer_id', 'time', 'offer_received', 'offer_viewed', 'offer_completed']]\n",
        "\n",
        "# Create transaction_df\n",
        "trans_df = clean_transcript.loc[trans_index,:]\n",
        "trans_df = trans_df[['customer_id', 'time', 'amount', 'offer_id']]"
      ],
      "execution_count": null,
      "outputs": []
    },
    {
      "cell_type": "code",
      "metadata": {
        "id": "vOX546Gc_OCK",
        "colab_type": "code",
        "colab": {
          "base_uri": "https://localhost:8080/",
          "height": 224
        },
        "outputId": "b427a89f-912c-46d7-de3e-22679c6c89f5"
      },
      "source": [
        "# apply the function of to_build_main_df to combine the dataframes in one dataframe\n",
        "main_df = to_build_main_df(clean_portfolio, clean_profile, offers_df, trans_df)\n",
        "\n",
        "# reorder the columns of combined_data_df\n",
        "main_df_col = ['customer_id', 'offer_id', 'time']\n",
        "portfolio_ls = clean_portfolio.columns.tolist()\n",
        "portfolio_ls.remove('offer_id')\n",
        "profile_ls = clean_profile.columns.tolist()\n",
        "profile_ls.remove('customer_id')\n",
        "main_df_col.extend(portfolio_ls)\n",
        "main_df_col.extend(profile_ls)\n",
        "main_df_col.extend(['total_amount', 'cust_action'])\n",
        "main_df = main_df.reindex(main_df_col, axis=1)\n",
        "\n",
        "main_df.head(5)"
      ],
      "execution_count": null,
      "outputs": [
        {
          "output_type": "execute_result",
          "data": {
            "text/html": [
              "<div>\n",
              "<style scoped>\n",
              "    .dataframe tbody tr th:only-of-type {\n",
              "        vertical-align: middle;\n",
              "    }\n",
              "\n",
              "    .dataframe tbody tr th {\n",
              "        vertical-align: top;\n",
              "    }\n",
              "\n",
              "    .dataframe thead th {\n",
              "        text-align: right;\n",
              "    }\n",
              "</style>\n",
              "<table border=\"1\" class=\"dataframe\">\n",
              "  <thead>\n",
              "    <tr style=\"text-align: right;\">\n",
              "      <th></th>\n",
              "      <th>customer_id</th>\n",
              "      <th>offer_id</th>\n",
              "      <th>time</th>\n",
              "      <th>reward</th>\n",
              "      <th>difficulty</th>\n",
              "      <th>duration</th>\n",
              "      <th>offer_type</th>\n",
              "      <th>web</th>\n",
              "      <th>email</th>\n",
              "      <th>mobile</th>\n",
              "      <th>social</th>\n",
              "      <th>bogo</th>\n",
              "      <th>informational</th>\n",
              "      <th>discount</th>\n",
              "      <th>gender</th>\n",
              "      <th>age_bin</th>\n",
              "      <th>income_bin</th>\n",
              "      <th>membership_since</th>\n",
              "      <th>total_amount</th>\n",
              "      <th>cust_action</th>\n",
              "    </tr>\n",
              "  </thead>\n",
              "  <tbody>\n",
              "    <tr>\n",
              "      <th>0</th>\n",
              "      <td>0009655768c64bdeb2e877511632db8f</td>\n",
              "      <td>5a8bc65990b245e5a138643cd4eb9837</td>\n",
              "      <td>168</td>\n",
              "      <td>0</td>\n",
              "      <td>0</td>\n",
              "      <td>72</td>\n",
              "      <td>informational</td>\n",
              "      <td>0</td>\n",
              "      <td>1</td>\n",
              "      <td>1</td>\n",
              "      <td>1</td>\n",
              "      <td>0</td>\n",
              "      <td>1</td>\n",
              "      <td>0</td>\n",
              "      <td>M</td>\n",
              "      <td>30s</td>\n",
              "      <td>70k</td>\n",
              "      <td>2017</td>\n",
              "      <td>22.16</td>\n",
              "      <td>1</td>\n",
              "    </tr>\n",
              "    <tr>\n",
              "      <th>1</th>\n",
              "      <td>0009655768c64bdeb2e877511632db8f</td>\n",
              "      <td>3f207df678b143eea3cee63160fa8bed</td>\n",
              "      <td>336</td>\n",
              "      <td>0</td>\n",
              "      <td>0</td>\n",
              "      <td>96</td>\n",
              "      <td>informational</td>\n",
              "      <td>1</td>\n",
              "      <td>1</td>\n",
              "      <td>1</td>\n",
              "      <td>0</td>\n",
              "      <td>0</td>\n",
              "      <td>1</td>\n",
              "      <td>0</td>\n",
              "      <td>M</td>\n",
              "      <td>30s</td>\n",
              "      <td>70k</td>\n",
              "      <td>2017</td>\n",
              "      <td>8.57</td>\n",
              "      <td>1</td>\n",
              "    </tr>\n",
              "    <tr>\n",
              "      <th>2</th>\n",
              "      <td>0009655768c64bdeb2e877511632db8f</td>\n",
              "      <td>f19421c1d4aa40978ebb69ca19b0e20d</td>\n",
              "      <td>408</td>\n",
              "      <td>5</td>\n",
              "      <td>5</td>\n",
              "      <td>120</td>\n",
              "      <td>bogo</td>\n",
              "      <td>1</td>\n",
              "      <td>1</td>\n",
              "      <td>1</td>\n",
              "      <td>1</td>\n",
              "      <td>1</td>\n",
              "      <td>0</td>\n",
              "      <td>0</td>\n",
              "      <td>M</td>\n",
              "      <td>30s</td>\n",
              "      <td>70k</td>\n",
              "      <td>2017</td>\n",
              "      <td>8.57</td>\n",
              "      <td>1</td>\n",
              "    </tr>\n",
              "    <tr>\n",
              "      <th>3</th>\n",
              "      <td>0009655768c64bdeb2e877511632db8f</td>\n",
              "      <td>fafdcd668e3743c1bb461111dcafc2a4</td>\n",
              "      <td>504</td>\n",
              "      <td>2</td>\n",
              "      <td>10</td>\n",
              "      <td>240</td>\n",
              "      <td>discount</td>\n",
              "      <td>1</td>\n",
              "      <td>1</td>\n",
              "      <td>1</td>\n",
              "      <td>1</td>\n",
              "      <td>0</td>\n",
              "      <td>0</td>\n",
              "      <td>1</td>\n",
              "      <td>M</td>\n",
              "      <td>30s</td>\n",
              "      <td>70k</td>\n",
              "      <td>2017</td>\n",
              "      <td>8.57</td>\n",
              "      <td>0</td>\n",
              "    </tr>\n",
              "    <tr>\n",
              "      <th>4</th>\n",
              "      <td>0009655768c64bdeb2e877511632db8f</td>\n",
              "      <td>2906b810c7d4411798c6938adc9daaa5</td>\n",
              "      <td>576</td>\n",
              "      <td>2</td>\n",
              "      <td>10</td>\n",
              "      <td>168</td>\n",
              "      <td>discount</td>\n",
              "      <td>1</td>\n",
              "      <td>1</td>\n",
              "      <td>1</td>\n",
              "      <td>0</td>\n",
              "      <td>0</td>\n",
              "      <td>0</td>\n",
              "      <td>1</td>\n",
              "      <td>M</td>\n",
              "      <td>30s</td>\n",
              "      <td>70k</td>\n",
              "      <td>2017</td>\n",
              "      <td>8.57</td>\n",
              "      <td>0</td>\n",
              "    </tr>\n",
              "  </tbody>\n",
              "</table>\n",
              "</div>"
            ],
            "text/plain": [
              "                        customer_id  ... cust_action\n",
              "0  0009655768c64bdeb2e877511632db8f  ...           1\n",
              "1  0009655768c64bdeb2e877511632db8f  ...           1\n",
              "2  0009655768c64bdeb2e877511632db8f  ...           1\n",
              "3  0009655768c64bdeb2e877511632db8f  ...           0\n",
              "4  0009655768c64bdeb2e877511632db8f  ...           0\n",
              "\n",
              "[5 rows x 20 columns]"
            ]
          },
          "metadata": {
            "tags": []
          },
          "execution_count": 7
        }
      ]
    },
    {
      "cell_type": "code",
      "metadata": {
        "id": "mRiOnGoI_aZ7",
        "colab_type": "code",
        "colab": {}
      },
      "source": [
        "# save the dataframe into csv \n",
        "main_df.to_csv('/content/drive/My Drive/Colab Notebooks/Udacity_Starbucks_CapstoneProject/main_df.csv')"
      ],
      "execution_count": null,
      "outputs": []
    },
    {
      "cell_type": "markdown",
      "metadata": {
        "id": "I_RF8aVPAEkM",
        "colab_type": "text"
      },
      "source": [
        "### **2. Exploratory Data Analysis**\n",
        "\n",
        "**Portfolio Dataset:**\n",
        "\n",
        "There are 10 unique offer ids. Four of each are bogo and discount, and two are the informational. All offers are with different rewards and durations.\n",
        "\n",
        "\n",
        "**Profile Dataset:**\n",
        "\n",
        "Age - The mean age is about 58. Age 45 to 72 only represents the interquartile (Q3 - Q1) of the customer base. The age 118 seems the outliers because all samples are lack of more than one features. Therefore, I scraped off all samples with age 118 in data cleaning (clean_profile) later.  \n",
        "\n",
        "\n",
        "Income - The higher the age, the higher the income. Of note is that the female customers have higher density in higher income range comparing the male customers. It means the female customers have higher purchasing power. \n",
        "\n",
        "Membership since - Time series analysis shows that the subscriptions increased gradually till 2017 then with a tough year of 2018.\n",
        "\n",
        "**Transcript Dataset:**\n",
        "Offers - Most advertisements were split by the discounts bogos, following by the informational.\n",
        "Timeline - The time between the customers received and viewed was close. It means many customers would open the ad once they received it."
      ]
    },
    {
      "cell_type": "code",
      "metadata": {
        "id": "AqCnhCCXCLXe",
        "colab_type": "code",
        "colab": {
          "base_uri": "https://localhost:8080/",
          "height": 34
        },
        "outputId": "37f8bcc1-d80c-410d-f6dd-421e5cd57dff"
      },
      "source": [
        "# check the number of unique offers\n",
        "portfolio.id.nunique()"
      ],
      "execution_count": null,
      "outputs": [
        {
          "output_type": "execute_result",
          "data": {
            "text/plain": [
              "10"
            ]
          },
          "metadata": {
            "tags": []
          },
          "execution_count": 9
        }
      ]
    },
    {
      "cell_type": "code",
      "metadata": {
        "id": "jAcYYP3tEyC_",
        "colab_type": "code",
        "colab": {
          "base_uri": "https://localhost:8080/",
          "height": 102
        },
        "outputId": "a81e010c-623e-42e6-f5ba-de113b55f6b4"
      },
      "source": [
        "portfolio.groupby('offer_type')['id'].count()"
      ],
      "execution_count": null,
      "outputs": [
        {
          "output_type": "execute_result",
          "data": {
            "text/plain": [
              "offer_type\n",
              "bogo             4\n",
              "discount         4\n",
              "informational    2\n",
              "Name: id, dtype: int64"
            ]
          },
          "metadata": {
            "tags": []
          },
          "execution_count": 10
        }
      ]
    },
    {
      "cell_type": "markdown",
      "metadata": {
        "id": "XaNJxLamE7vO",
        "colab_type": "text"
      },
      "source": [
        "There are 10 unique offer ids. Four of each are bogo and discount, and two are the informational."
      ]
    },
    {
      "cell_type": "code",
      "metadata": {
        "id": "SzXbMfgp84ct",
        "colab_type": "code",
        "colab": {
          "base_uri": "https://localhost:8080/",
          "height": 305
        },
        "outputId": "14d398d6-f575-44c2-e9be-7d7abac20bd8"
      },
      "source": [
        "# visualize the age distribution of the customers\n",
        "plt.figure(figsize = (13, 4))\n",
        "sns.boxplot(profile['age'])\n",
        "plt.title('Age Boxplot of Customers')\n",
        "plt.xlabel('Age')\n",
        "plt.xticks(rotation = 90)\n",
        "plt.show();"
      ],
      "execution_count": null,
      "outputs": [
        {
          "output_type": "display_data",
          "data": {
            "image/png": "[encoded data removed]",
            "text/plain": [
              "<Figure size 936x288 with 1 Axes>"
            ]
          },
          "metadata": {
            "tags": [],
            "needs_background": "light"
          }
        }
      ]
    },
    {
      "cell_type": "markdown",
      "metadata": {
        "id": "o3a4CKCFAAoK",
        "colab_type": "text"
      },
      "source": [
        "We can see above that the age = 118 value does not make sense there as it is clearly out of the normal distribution."
      ]
    },
    {
      "cell_type": "code",
      "metadata": {
        "id": "Zp9l_0bxaY4M",
        "colab_type": "code",
        "colab": {
          "base_uri": "https://localhost:8080/",
          "height": 282
        },
        "outputId": "936a9bb0-4ed3-463f-c521-1e1b187961b0"
      },
      "source": [
        "#Gender Distribution\n",
        "group_by_gender= profile.groupby(profile['gender'])['gender'].count()\n",
        "labels= ['Female','Male', 'Others']\n",
        "plt.pie( group_by_gender,labels= group_by_gender, colors= ['#6ade93', '#f2aa57', '#8da7e3'])\n",
        "plt.legend(labels, bbox_to_anchor=(1,1))\n",
        "plt.title('Gender Distribution')"
      ],
      "execution_count": null,
      "outputs": [
        {
          "output_type": "execute_result",
          "data": {
            "text/plain": [
              "Text(0.5, 1.0, 'Gender Distribution')"
            ]
          },
          "metadata": {
            "tags": []
          },
          "execution_count": 12
        },
        {
          "output_type": "display_data",
          "data": {
            "image/png": "[encoded data removed]",
            "text/plain": [
              "<Figure size 432x288 with 1 Axes>"
            ]
          },
          "metadata": {
            "tags": []
          }
        }
      ]
    },
    {
      "cell_type": "markdown",
      "metadata": {
        "id": "KPD-xNxfHzb9",
        "colab_type": "text"
      },
      "source": [
        "Majority of the customers are male."
      ]
    },
    {
      "cell_type": "code",
      "metadata": {
        "id": "_3N4LzXmHugi",
        "colab_type": "code",
        "colab": {
          "base_uri": "https://localhost:8080/",
          "height": 279
        },
        "outputId": "3bd4b401-6287-41b4-8c43-9ff3ba7cfbfc"
      },
      "source": [
        "# visualize the correlation of gender and income\n",
        "gender_array = [\"F\", \"M\", \"O\"]\n",
        "for g in gender_array:\n",
        "    profile[profile.gender == g].income.plot(kind=\"kde\")\n",
        "plt.title(\"Density Distribution of Income by Gender\")\n",
        "plt.legend((\"Female\", \"Male\", \"Other\"));"
      ],
      "execution_count": null,
      "outputs": [
        {
          "output_type": "display_data",
          "data": {
            "image/png": "[encoded data removed]",
            "text/plain": [
              "<Figure size 432x288 with 1 Axes>"
            ]
          },
          "metadata": {
            "tags": [],
            "needs_background": "light"
          }
        }
      ]
    },
    {
      "cell_type": "markdown",
      "metadata": {
        "id": "573n9p0vGs0_",
        "colab_type": "text"
      },
      "source": [
        "Female customers have higher density in higher income range. "
      ]
    },
    {
      "cell_type": "code",
      "metadata": {
        "id": "cBD9vKnU6zUx",
        "colab_type": "code",
        "colab": {
          "base_uri": "https://localhost:8080/",
          "height": 311
        },
        "outputId": "0c8fe387-dc3c-48b5-c0db-b6fca57680f8"
      },
      "source": [
        "# visualize the membership year\n",
        "clean_profile[['membership_since']].groupby(clean_profile.membership_since).count().plot.bar(width=0.5);\n",
        "plt.title('Membership Start Year');\n",
        "plt.ylabel('Counts');\n",
        "plt.xlabel('Year');"
      ],
      "execution_count": null,
      "outputs": [
        {
          "output_type": "display_data",
          "data": {
            "image/png": "[encoded data removed]",
            "text/plain": [
              "<Figure size 432x288 with 1 Axes>"
            ]
          },
          "metadata": {
            "tags": [],
            "needs_background": "light"
          }
        }
      ]
    },
    {
      "cell_type": "code",
      "metadata": {
        "id": "RFQSu-03Bwqr",
        "colab_type": "code",
        "colab": {
          "base_uri": "https://localhost:8080/",
          "height": 353
        },
        "outputId": "3d079058-4d70-43d6-b942-9c14148e3582"
      },
      "source": [
        "# visualize the offers received by the customers\n",
        "received = clean_transcript[clean_transcript['offer_received'] == 1].offer_type.value_counts()\n",
        "received.plot(kind = 'bar', color=['C2', 'C4', 'C6'])\n",
        "for i, typ in enumerate(received):\n",
        "    plt.text(i, typ, typ, ha = 'center', va = 'bottom');\n",
        "plt.title('Offers Received by the Customers')"
      ],
      "execution_count": null,
      "outputs": [
        {
          "output_type": "execute_result",
          "data": {
            "text/plain": [
              "Text(0.5, 1.0, 'Offers Received by the Customers')"
            ]
          },
          "metadata": {
            "tags": []
          },
          "execution_count": 15
        },
        {
          "output_type": "display_data",
          "data": {
            "image/png": "[encoded data removed]",
            "text/plain": [
              "<Figure size 432x288 with 1 Axes>"
            ]
          },
          "metadata": {
            "tags": [],
            "needs_background": "light"
          }
        }
      ]
    },
    {
      "cell_type": "code",
      "metadata": {
        "id": "eeI02uMQHG7i",
        "colab_type": "code",
        "colab": {
          "base_uri": "https://localhost:8080/",
          "height": 353
        },
        "outputId": "cd19dde4-248e-4fef-9c36-b1c97c2991f9"
      },
      "source": [
        "# visualize the offers viewed by the custoers\n",
        "viewed= clean_transcript[clean_transcript['offer_viewed']==1].offer_type.value_counts()\n",
        "viewed.plot(kind='bar', color=['C0', 'C1', 'C2'])\n",
        "for i, typ in enumerate(viewed):\n",
        "    plt.text(i, typ, typ, ha = 'center', va = 'bottom');\n",
        "plt.title('Offer Viewed by the Customers')"
      ],
      "execution_count": null,
      "outputs": [
        {
          "output_type": "execute_result",
          "data": {
            "text/plain": [
              "Text(0.5, 1.0, 'Offer Viewed by the Customers')"
            ]
          },
          "metadata": {
            "tags": []
          },
          "execution_count": 16
        },
        {
          "output_type": "display_data",
          "data": {
            "image/png": "[encoded data removed]",
            "text/plain": [
              "<Figure size 432x288 with 1 Axes>"
            ]
          },
          "metadata": {
            "tags": [],
            "needs_background": "light"
          }
        }
      ]
    },
    {
      "cell_type": "code",
      "metadata": {
        "id": "JRFSIhz20w1w",
        "colab_type": "code",
        "colab": {}
      },
      "source": [
        ""
      ],
      "execution_count": null,
      "outputs": []
    },
    {
      "cell_type": "code",
      "metadata": {
        "id": "7aNQJqAp2ZQ-",
        "colab_type": "code",
        "colab": {}
      },
      "source": [
        "\n"
      ],
      "execution_count": null,
      "outputs": []
    },
    {
      "cell_type": "code",
      "metadata": {
        "id": "k7WS22mb3LP6",
        "colab_type": "code",
        "colab": {
          "base_uri": "https://localhost:8080/",
          "height": 348
        },
        "outputId": "bfc5bdfb-b5b2-4cb2-dcf4-4ba4ee68da24"
      },
      "source": [
        "# distribution of the events among the advertisement\n",
        "transcript.event.value_counts(normalize=True).plot(kind=\"bar\", color=['C2', 'C4', 'C6', 'C7'])\n",
        "plt.title(\"Distribution of Events\");"
      ],
      "execution_count": null,
      "outputs": [
        {
          "output_type": "display_data",
          "data": {
            "image/png": "[encoded data removed]",
            "text/plain": [
              "<Figure size 432x288 with 1 Axes>"
            ]
          },
          "metadata": {
            "tags": [],
            "needs_background": "light"
          }
        }
      ]
    },
    {
      "cell_type": "code",
      "metadata": {
        "id": "PiqSIKkD3aPY",
        "colab_type": "code",
        "colab": {
          "base_uri": "https://localhost:8080/",
          "height": 296
        },
        "outputId": "f881f032-f715-4fbe-b119-fbe2aeb15869"
      },
      "source": [
        "# distribution of events over time\n",
        "events = transcript.event.unique()\n",
        "for event in events:\n",
        "    transcript[transcript.event == event].time.plot(kind = 'kde')\n",
        "plt.xlabel('Hours')\n",
        "plt.legend(events)\n",
        "plt.xlim(0, 715)\n",
        "plt.title('Distribution of Events Over Time');"
      ],
      "execution_count": null,
      "outputs": [
        {
          "output_type": "display_data",
          "data": {
            "image/png": "[encoded data removed]",
            "text/plain": [
              "<Figure size 432x288 with 1 Axes>"
            ]
          },
          "metadata": {
            "tags": [],
            "needs_background": "light"
          }
        }
      ]
    }
  ]
}